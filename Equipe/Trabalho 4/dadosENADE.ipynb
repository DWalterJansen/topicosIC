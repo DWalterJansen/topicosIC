{
 "cells": [
  {
   "cell_type": "markdown",
   "metadata": {},
   "source": [
    "# Atividade 5: Trabalhando com Dados do ENADE 2017"
   ]
  },
  {
   "cell_type": "code",
   "execution_count": 94,
   "metadata": {},
   "outputs": [
    {
     "data": {
      "text/plain": [
       "(537436, 150)"
      ]
     },
     "execution_count": 94,
     "metadata": {},
     "output_type": "execute_result"
    }
   ],
   "source": [
    "import pandas\n",
    "import matplotlib.pyplot as plt\n",
    "\n",
    "enade2017=pandas.read_csv(\"MICRODADOS_ENADE_2017.txt\", sep=';',dtype={\"DS_VT_ESC_OFG\": str, \n",
    "                                                                               'DS_VT_ESC_OCE':str,\n",
    "                                                                              'DS_VT_ACE_OCE':str,\n",
    "                                                                              'NT_GER':str,\n",
    "                                                                              'NT_FG':str,\n",
    "                                                                              'NT_OBJ_FG':str,\n",
    "                                                                              'NT_DIS_FG':str,\n",
    "                                                                              'NT_CE':str,\n",
    "                                                                              'NT_OBJ_CE':str,\n",
    "                                                                              'NT_DIS_CE':str})\n",
    "\n",
    "\n",
    "enade2017.shape"
   ]
  },
  {
   "cell_type": "markdown",
   "metadata": {},
   "source": [
    "### 1) Escolhendo tabela com dados de interessse"
   ]
  },
  {
   "cell_type": "code",
   "execution_count": 95,
   "metadata": {},
   "outputs": [
    {
     "data": {
      "text/html": [
       "<div>\n",
       "<style scoped>\n",
       "    .dataframe tbody tr th:only-of-type {\n",
       "        vertical-align: middle;\n",
       "    }\n",
       "\n",
       "    .dataframe tbody tr th {\n",
       "        vertical-align: top;\n",
       "    }\n",
       "\n",
       "    .dataframe thead th {\n",
       "        text-align: right;\n",
       "    }\n",
       "</style>\n",
       "<table border=\"1\" class=\"dataframe\">\n",
       "  <thead>\n",
       "    <tr style=\"text-align: right;\">\n",
       "      <th></th>\n",
       "      <th>NT_GER</th>\n",
       "      <th>CO_UF_CURSO</th>\n",
       "      <th>QE_I06</th>\n",
       "      <th>QE_I23</th>\n",
       "    </tr>\n",
       "  </thead>\n",
       "  <tbody>\n",
       "    <tr>\n",
       "      <th>0</th>\n",
       "      <td>52,6</td>\n",
       "      <td>51</td>\n",
       "      <td>A</td>\n",
       "      <td>D</td>\n",
       "    </tr>\n",
       "    <tr>\n",
       "      <th>1</th>\n",
       "      <td>63,1</td>\n",
       "      <td>51</td>\n",
       "      <td>C</td>\n",
       "      <td>C</td>\n",
       "    </tr>\n",
       "    <tr>\n",
       "      <th>2</th>\n",
       "      <td>33,7</td>\n",
       "      <td>51</td>\n",
       "      <td>B</td>\n",
       "      <td>B</td>\n",
       "    </tr>\n",
       "    <tr>\n",
       "      <th>3</th>\n",
       "      <td>58,1</td>\n",
       "      <td>51</td>\n",
       "      <td>D</td>\n",
       "      <td>C</td>\n",
       "    </tr>\n",
       "    <tr>\n",
       "      <th>4</th>\n",
       "      <td>46,3</td>\n",
       "      <td>51</td>\n",
       "      <td>B</td>\n",
       "      <td>B</td>\n",
       "    </tr>\n",
       "    <tr>\n",
       "      <th>5</th>\n",
       "      <td>64,2</td>\n",
       "      <td>51</td>\n",
       "      <td>B</td>\n",
       "      <td>B</td>\n",
       "    </tr>\n",
       "    <tr>\n",
       "      <th>6</th>\n",
       "      <td>41,4</td>\n",
       "      <td>51</td>\n",
       "      <td>B</td>\n",
       "      <td>D</td>\n",
       "    </tr>\n",
       "    <tr>\n",
       "      <th>7</th>\n",
       "      <td>48,8</td>\n",
       "      <td>51</td>\n",
       "      <td>B</td>\n",
       "      <td>B</td>\n",
       "    </tr>\n",
       "    <tr>\n",
       "      <th>8</th>\n",
       "      <td>52,9</td>\n",
       "      <td>51</td>\n",
       "      <td>B</td>\n",
       "      <td>C</td>\n",
       "    </tr>\n",
       "    <tr>\n",
       "      <th>9</th>\n",
       "      <td>62,7</td>\n",
       "      <td>51</td>\n",
       "      <td>B</td>\n",
       "      <td>D</td>\n",
       "    </tr>\n",
       "  </tbody>\n",
       "</table>\n",
       "</div>"
      ],
      "text/plain": [
       "  NT_GER  CO_UF_CURSO QE_I06 QE_I23\n",
       "0   52,6           51      A      D\n",
       "1   63,1           51      C      C\n",
       "2   33,7           51      B      B\n",
       "3   58,1           51      D      C\n",
       "4   46,3           51      B      B\n",
       "5   64,2           51      B      B\n",
       "6   41,4           51      B      D\n",
       "7   48,8           51      B      B\n",
       "8   52,9           51      B      C\n",
       "9   62,7           51      B      D"
      ]
     },
     "execution_count": 95,
     "metadata": {},
     "output_type": "execute_result"
    }
   ],
   "source": [
    "tabela = pandas.DataFrame(enade2017, columns=['NT_GER', 'CO_UF_CURSO', 'QE_I06', 'QE_I23'])\n",
    "tabela.head(10)"
   ]
  },
  {
   "cell_type": "markdown",
   "metadata": {},
   "source": [
    "### 2) Limpeza de dados"
   ]
  },
  {
   "cell_type": "code",
   "execution_count": 96,
   "metadata": {},
   "outputs": [
    {
     "name": "stdout",
     "output_type": "stream",
     "text": [
      "0         52.6\n",
      "1         63.1\n",
      "2         33.7\n",
      "3         58.1\n",
      "4         46.3\n",
      "5         64.2\n",
      "6         41.4\n",
      "7         48.8\n",
      "8         52.9\n",
      "9         62.7\n",
      "10        51.9\n",
      "11        58.4\n",
      "12        77.7\n",
      "13        37.5\n",
      "14        66.4\n",
      "15        71.5\n",
      "16        57.8\n",
      "17        62.7\n",
      "18        75.1\n",
      "19        50.5\n",
      "20        46.1\n",
      "21        44.1\n",
      "22        47.9\n",
      "23        55.1\n",
      "24        73.5\n",
      "25        60.4\n",
      "26        62.7\n",
      "27        49.5\n",
      "28        44.9\n",
      "29        27.7\n",
      "          ... \n",
      "534887    43.8\n",
      "534888    46.9\n",
      "534890    48.2\n",
      "534891    49.6\n",
      "534892    63.2\n",
      "534893    31.9\n",
      "534895    71.5\n",
      "534896    59.6\n",
      "534897    15.1\n",
      "534898    44.7\n",
      "534900    30.8\n",
      "534901    16.3\n",
      "534902    66.3\n",
      "534903    34.9\n",
      "534904    71.9\n",
      "534905    56.0\n",
      "534906    45.9\n",
      "534907    43.3\n",
      "534908    68.4\n",
      "534909    39.3\n",
      "534910    69.6\n",
      "534911    53.8\n",
      "534912    15.2\n",
      "534913    59.8\n",
      "534914    42.7\n",
      "534915    35.6\n",
      "534916    66.1\n",
      "534917    70.2\n",
      "534918    51.9\n",
      "534919    52.8\n",
      "Name: NT_GER, Length: 449932, dtype: float64\n",
      "43.52396851079471\n"
     ]
    }
   ],
   "source": [
    "#substitui vírgula por ponto\n",
    "tabela['NT_GER'] = tabela['NT_GER'].str.replace(',', '.')\n",
    "tabela=tabela.loc[(tabela['NT_GER'].notnull())]\n",
    "#print(tabela['NT_GER'])\n",
    "#converte de str para float\n",
    "tabela['NT_GER'] = pandas.to_numeric(tabela['NT_GER'])\n",
    "print(tabela['NT_GER'])\n",
    "print(tabela['NT_GER'].mean())"
   ]
  },
  {
   "cell_type": "code",
   "execution_count": 97,
   "metadata": {},
   "outputs": [
    {
     "data": {
      "text/plain": [
       "count    449932.000000\n",
       "mean         43.523969\n",
       "std          14.080110\n",
       "min           0.000000\n",
       "25%          33.400000\n",
       "50%          42.900000\n",
       "75%          53.100000\n",
       "max          98.100000\n",
       "Name: NT_GER, dtype: float64"
      ]
     },
     "execution_count": 97,
     "metadata": {},
     "output_type": "execute_result"
    }
   ],
   "source": [
    "tabela['NT_GER'].describe()"
   ]
  },
  {
   "cell_type": "markdown",
   "metadata": {},
   "source": [
    "### 3) Exploração de dados"
   ]
  },
  {
   "cell_type": "code",
   "execution_count": 98,
   "metadata": {},
   "outputs": [],
   "source": [
    "#Mapeando Alternativas em números\n",
    "tabela['QE_I23'] = tabela['QE_I23'].map({'A': 0, 'B': 3, 'C': 7, 'D': 12,'E': 15})"
   ]
  },
  {
   "cell_type": "code",
   "execution_count": 99,
   "metadata": {},
   "outputs": [],
   "source": [
    "#Calcula a média para alunos que moram em minas\n",
    "#CO_UF_CURSO = 31\n",
    "minas = tabela[tabela['CO_UF_CURSO']==31]\n",
    "\n",
    "#Calcula a média para alunos que moram em minas\n",
    "#CO_UF_CURSO = 35\n",
    "sp = tabela[tabela['CO_UF_CURSO']==35]"
   ]
  },
  {
   "cell_type": "code",
   "execution_count": 100,
   "metadata": {},
   "outputs": [
    {
     "name": "stdout",
     "output_type": "stream",
     "text": [
      "        NT_GER  CO_UF_CURSO QE_I06  QE_I23\n",
      "3707      42.2           31      B    15.0\n",
      "3715      73.6           31      B    15.0\n",
      "3723      59.3           31      B     7.0\n",
      "3727      36.8           31      B     7.0\n",
      "3730      37.7           31      B    12.0\n",
      "3731      48.3           31      B    12.0\n",
      "3732      59.7           31      B     3.0\n",
      "3735      49.8           31      B     3.0\n",
      "3736      54.6           31      B     3.0\n",
      "3738      65.7           31      B     7.0\n",
      "3742      58.3           31      B    15.0\n",
      "3754      74.0           31      B    12.0\n",
      "3755      64.4           31      B    12.0\n",
      "3768      80.2           31      B    12.0\n",
      "3769      60.2           31      B    12.0\n",
      "3770      73.2           31      B     7.0\n",
      "3771      48.3           31      B     0.0\n",
      "3779      65.3           31      B    15.0\n",
      "3785      43.7           31      B     7.0\n",
      "3799      41.5           31      B    15.0\n",
      "3813      29.5           31      B    12.0\n",
      "3815      68.7           31      B     0.0\n",
      "3818      26.9           31      B     7.0\n",
      "3824      37.8           31      B    12.0\n",
      "3825      46.9           31      B    12.0\n",
      "3829      36.3           31      B    12.0\n",
      "3831      43.3           31      B     7.0\n",
      "3833      40.2           31      B     7.0\n",
      "3835      55.0           31      B     7.0\n",
      "3836      45.6           31      B     3.0\n",
      "...        ...          ...    ...     ...\n",
      "534580    41.9           31      B     7.0\n",
      "534583    39.4           31      B    15.0\n",
      "534586    34.7           31      B    12.0\n",
      "534590    27.5           31      B     0.0\n",
      "534599    70.3           31      B     7.0\n",
      "534601    49.2           31      B    12.0\n",
      "534605    41.0           31      B     3.0\n",
      "534606    61.0           31      B     7.0\n",
      "534609    50.3           31      B    12.0\n",
      "534615    36.8           31      B     7.0\n",
      "534628    46.2           31      B     7.0\n",
      "534629    43.9           31      B     7.0\n",
      "534635    60.0           31      B     3.0\n",
      "534639    49.7           31      B     3.0\n",
      "534643    49.3           31      B     3.0\n",
      "534652    46.1           31      B     7.0\n",
      "534653    44.1           31      B     7.0\n",
      "534660    55.5           31      B     7.0\n",
      "534662    26.3           31      B    15.0\n",
      "534664    47.3           31      B     0.0\n",
      "534665    61.9           31      B     3.0\n",
      "534666    57.5           31      B     7.0\n",
      "534672    52.3           31      B     7.0\n",
      "534675    32.6           31      B    12.0\n",
      "534676    69.8           31      B    12.0\n",
      "534677    33.3           31      B     7.0\n",
      "534678    58.1           31      B    12.0\n",
      "534680    43.6           31      B     3.0\n",
      "534681    35.0           31      B     7.0\n",
      "534684    54.8           31      B    15.0\n",
      "\n",
      "[26308 rows x 4 columns]\n"
     ]
    }
   ],
   "source": [
    "#Calcula a média para alunos que moram com pais em Minas Gerais\n",
    "#QE_I06 = B\n",
    "\n",
    "moraPaisMG = minas[minas['QE_I06']=='B']\n",
    "\n",
    "print(moraPaisMG)"
   ]
  },
  {
   "cell_type": "code",
   "execution_count": 101,
   "metadata": {},
   "outputs": [
    {
     "data": {
      "text/plain": [
       "count    26308.000000\n",
       "mean        45.922221\n",
       "std         13.834198\n",
       "min          0.000000\n",
       "25%         36.200000\n",
       "50%         45.400000\n",
       "75%         55.400000\n",
       "max         95.100000\n",
       "Name: NT_GER, dtype: float64"
      ]
     },
     "execution_count": 101,
     "metadata": {},
     "output_type": "execute_result"
    }
   ],
   "source": [
    "moraPaisMG['NT_GER'].describe()"
   ]
  },
  {
   "cell_type": "code",
   "execution_count": 102,
   "metadata": {},
   "outputs": [
    {
     "name": "stdout",
     "output_type": "stream",
     "text": [
      "        NT_GER  CO_UF_CURSO QE_I06  QE_I23\n",
      "3927      41.8           35      B     7.0\n",
      "3928      40.3           35      B     3.0\n",
      "3936      50.8           35      B     7.0\n",
      "3940      41.2           35      B    15.0\n",
      "3941      38.5           35      B    15.0\n",
      "3951      67.9           35      B     7.0\n",
      "3962      57.0           35      B    12.0\n",
      "3968      57.9           35      B     7.0\n",
      "3969      66.1           35      B     7.0\n",
      "3971      62.0           35      B     7.0\n",
      "3972      55.3           35      B     7.0\n",
      "3974      16.2           35      B    15.0\n",
      "3976      40.7           35      B     7.0\n",
      "3977      34.9           35      B    12.0\n",
      "3979      54.1           35      B     7.0\n",
      "3984      51.1           35      B     3.0\n",
      "3985      48.4           35      B    12.0\n",
      "3987      43.8           35      B    15.0\n",
      "3990      39.3           35      B     7.0\n",
      "3994      64.9           35      B    15.0\n",
      "3995      63.8           35      B    12.0\n",
      "3996      60.8           35      B    15.0\n",
      "3998      37.8           35      B     7.0\n",
      "4002      51.1           35      B    12.0\n",
      "4005      57.6           35      B     7.0\n",
      "4006      61.1           35      B     3.0\n",
      "4009      64.3           35      B     0.0\n",
      "4013      55.9           35      B     7.0\n",
      "4014      60.8           35      B     3.0\n",
      "4018      48.9           35      B     3.0\n",
      "...        ...          ...    ...     ...\n",
      "534056    59.4           35      B     7.0\n",
      "534057    59.9           35      B    12.0\n",
      "534059    20.5           35      B     7.0\n",
      "534061    44.3           35      B     3.0\n",
      "534062    62.6           35      B     3.0\n",
      "534067    23.0           35      B    12.0\n",
      "534075    24.5           35      B     3.0\n",
      "534076    56.4           35      B     3.0\n",
      "534086    31.1           35      B     3.0\n",
      "534395    70.3           35      B     3.0\n",
      "534422    24.5           35      B    12.0\n",
      "534425    66.3           35      B     3.0\n",
      "534426    67.9           35      B     7.0\n",
      "534427    56.9           35      B     7.0\n",
      "534428    36.7           35      B     0.0\n",
      "534429    25.6           35      B    15.0\n",
      "534430    33.8           35      B     7.0\n",
      "534433    40.1           35      B     3.0\n",
      "534434    57.1           35      B     0.0\n",
      "534436    53.4           35      B     0.0\n",
      "534437    48.2           35      B     3.0\n",
      "534438    57.6           35      B     7.0\n",
      "534439    64.5           35      B     7.0\n",
      "534441    23.9           35      B     3.0\n",
      "534442    37.4           35      B     3.0\n",
      "534443    65.6           35      B     7.0\n",
      "534444    47.9           35      B     7.0\n",
      "534445    61.1           35      B    12.0\n",
      "534447    43.1           35      B    12.0\n",
      "534449    43.2           35      B     7.0\n",
      "\n",
      "[59946 rows x 4 columns]\n"
     ]
    }
   ],
   "source": [
    "#Calcula a média para alunos que moram com pais em São Paulo\n",
    "#QE_I06 = B\n",
    "\n",
    "moraPaisSP = sp[sp['QE_I06']=='B']\n",
    "\n",
    "print(moraPaisSP)"
   ]
  },
  {
   "cell_type": "code",
   "execution_count": 103,
   "metadata": {},
   "outputs": [
    {
     "data": {
      "text/plain": [
       "count    59946.000000\n",
       "mean        43.637195\n",
       "std         13.696504\n",
       "min          0.000000\n",
       "25%         33.900000\n",
       "50%         43.000000\n",
       "75%         53.000000\n",
       "max         93.500000\n",
       "Name: NT_GER, dtype: float64"
      ]
     },
     "execution_count": 103,
     "metadata": {},
     "output_type": "execute_result"
    }
   ],
   "source": [
    "moraPaisSP['NT_GER'].describe()"
   ]
  },
  {
   "cell_type": "code",
   "execution_count": 104,
   "metadata": {},
   "outputs": [
    {
     "name": "stdout",
     "output_type": "stream",
     "text": [
      "        NT_GER  CO_UF_CURSO QE_I06  QE_I23\n",
      "3705      74.4           31      D     7.0\n",
      "3706      58.5           31      D    15.0\n",
      "3708      49.1           31      D     7.0\n",
      "3709      75.1           31      D    12.0\n",
      "3711      61.9           31      D     3.0\n",
      "3712      71.0           31      D    15.0\n",
      "3713      70.9           31      D     3.0\n",
      "3714      84.6           31      D     3.0\n",
      "3716      55.0           31      D    12.0\n",
      "3718      60.0           31      D    12.0\n",
      "3720      49.1           31      D     7.0\n",
      "3721      45.7           31      D    12.0\n",
      "3722      72.8           31      D    15.0\n",
      "3724      67.7           31      D    15.0\n",
      "3725      63.4           31      D    12.0\n",
      "3726      68.9           31      D     7.0\n",
      "3728      57.9           31      D     3.0\n",
      "3733      33.3           31      D     3.0\n",
      "3734      19.3           31      D     3.0\n",
      "3737      72.4           31      D     7.0\n",
      "3743      74.4           31      D    15.0\n",
      "3744      51.9           31      D    12.0\n",
      "3745      59.7           31      D     3.0\n",
      "3746      66.3           31      D     3.0\n",
      "3747      56.0           31      D    12.0\n",
      "3748      61.8           31      D    12.0\n",
      "3750      62.6           31      D     7.0\n",
      "3751      48.0           31      D    12.0\n",
      "3752      41.5           31      D    12.0\n",
      "3756      53.5           31      D    12.0\n",
      "...        ...          ...    ...     ...\n",
      "533523    53.9           31      D     3.0\n",
      "533524    50.6           31      D     3.0\n",
      "533526    50.0           31      D    12.0\n",
      "533527    55.5           31      D    15.0\n",
      "533529    40.1           31      D    15.0\n",
      "533530    65.5           31      D     7.0\n",
      "533532    50.8           31      D     7.0\n",
      "533534    46.1           31      D     3.0\n",
      "533536    41.0           31      D     7.0\n",
      "533537    49.7           31      D    15.0\n",
      "533538    61.5           31      D     3.0\n",
      "533541    51.8           31      D     3.0\n",
      "533611    37.7           31      D    12.0\n",
      "533626    29.0           31      D     7.0\n",
      "533630    35.6           31      D     3.0\n",
      "533634    66.5           31      D    15.0\n",
      "533640    27.9           31      D    12.0\n",
      "533654    38.8           31      D    12.0\n",
      "533656    52.6           31      D     7.0\n",
      "533672    44.2           31      D     0.0\n",
      "533677    33.7           31      D     7.0\n",
      "533694    44.8           31      D    12.0\n",
      "533696    47.4           31      D     3.0\n",
      "533699    47.1           31      D     7.0\n",
      "533705    64.4           31      D    15.0\n",
      "533707    49.6           31      D     0.0\n",
      "533709    55.1           31      D    15.0\n",
      "533715    34.5           31      D     7.0\n",
      "533719    53.0           31      D     3.0\n",
      "533722    60.2           31      D    15.0\n",
      "\n",
      "[7088 rows x 4 columns]\n"
     ]
    }
   ],
   "source": [
    "#Calcula a média para alunos que moram com outras pessoas em Minas Gerais\n",
    "#QE_I06 = D\n",
    "\n",
    "moraOutrasMG = minas[minas['QE_I06']=='D']\n",
    "\n",
    "print(moraOutrasMG)"
   ]
  },
  {
   "cell_type": "code",
   "execution_count": 105,
   "metadata": {},
   "outputs": [
    {
     "data": {
      "text/plain": [
       "count    7088.000000\n",
       "mean       49.442339\n",
       "std        13.729479\n",
       "min         0.000000\n",
       "25%        39.900000\n",
       "50%        49.500000\n",
       "75%        59.100000\n",
       "max        95.100000\n",
       "Name: NT_GER, dtype: float64"
      ]
     },
     "execution_count": 105,
     "metadata": {},
     "output_type": "execute_result"
    }
   ],
   "source": [
    "moraOutrasMG['NT_GER'].describe()"
   ]
  },
  {
   "cell_type": "code",
   "execution_count": 106,
   "metadata": {},
   "outputs": [
    {
     "name": "stdout",
     "output_type": "stream",
     "text": [
      "        NT_GER  CO_UF_CURSO QE_I06  QE_I23\n",
      "3926      71.7           35      D     7.0\n",
      "3929      50.8           35      D    12.0\n",
      "3930      27.4           35      D     3.0\n",
      "3933      46.3           35      D    12.0\n",
      "3934      46.1           35      D     7.0\n",
      "3939      66.5           35      D    15.0\n",
      "3944      53.4           35      D     3.0\n",
      "3945      56.4           35      D     0.0\n",
      "3948      54.9           35      D    15.0\n",
      "3956      65.3           35      D     7.0\n",
      "3957      62.1           35      D     7.0\n",
      "3960      63.5           35      D     3.0\n",
      "3961      68.5           35      D    12.0\n",
      "3963      57.2           35      D     7.0\n",
      "3965      52.6           35      D     7.0\n",
      "3967      39.9           35      D    15.0\n",
      "3970      41.7           35      D     7.0\n",
      "3978      42.3           35      D     7.0\n",
      "3980      43.8           35      D    12.0\n",
      "3981      35.5           35      D     7.0\n",
      "3982      44.6           35      D     7.0\n",
      "3989      46.1           35      D     7.0\n",
      "3992      18.9           35      D    12.0\n",
      "3997      58.7           35      D    12.0\n",
      "3999      51.0           35      D    12.0\n",
      "4000      63.5           35      D     7.0\n",
      "4001      51.9           35      D    12.0\n",
      "4008      70.8           35      D    15.0\n",
      "4011      36.2           35      D     7.0\n",
      "4012      37.7           35      D     3.0\n",
      "...        ...          ...    ...     ...\n",
      "527001    54.6           35      D     7.0\n",
      "527318    35.0           35      D     3.0\n",
      "528052    48.5           35      D    15.0\n",
      "528825    33.0           35      D     3.0\n",
      "528834    51.1           35      D     3.0\n",
      "528926    58.4           35      D     3.0\n",
      "529058    21.5           35      D     7.0\n",
      "529485    18.8           35      D     7.0\n",
      "530404    58.1           35      D     3.0\n",
      "530415    36.8           35      D     7.0\n",
      "530566    33.9           35      D     3.0\n",
      "530895    24.4           35      D     3.0\n",
      "531090    43.2           35      D     3.0\n",
      "531162    19.8           35      D     7.0\n",
      "531166    16.6           35      D     3.0\n",
      "531528    50.2           35      D     3.0\n",
      "531977    31.5           35      D     0.0\n",
      "532912    56.6           35      D     3.0\n",
      "533042    50.8           35      D    15.0\n",
      "533114    55.3           35      D     7.0\n",
      "533115    31.1           35      D     7.0\n",
      "533120    48.4           35      D    12.0\n",
      "533136    48.5           35      D     7.0\n",
      "533137    38.0           35      D     3.0\n",
      "533279    33.8           35      D     3.0\n",
      "533969    46.2           35      D     3.0\n",
      "534007    34.4           35      D     3.0\n",
      "534028    34.5           35      D     3.0\n",
      "534045    61.7           35      D     3.0\n",
      "534424    45.9           35      D     7.0\n",
      "\n",
      "[6068 rows x 4 columns]\n"
     ]
    }
   ],
   "source": [
    "#Calcula a média para alunos que moram com outras pessoas em Minas Gerais\n",
    "#QE_I06 = D\n",
    "\n",
    "moraOutrasSP = sp[sp['QE_I06']=='D']\n",
    "\n",
    "print(moraOutrasSP)"
   ]
  },
  {
   "cell_type": "code",
   "execution_count": 107,
   "metadata": {},
   "outputs": [
    {
     "data": {
      "text/plain": [
       "count    6068.000000\n",
       "mean       48.168820\n",
       "std        14.949128\n",
       "min         0.000000\n",
       "25%        38.000000\n",
       "50%        48.800000\n",
       "75%        58.700000\n",
       "max        92.300000\n",
       "Name: NT_GER, dtype: float64"
      ]
     },
     "execution_count": 107,
     "metadata": {},
     "output_type": "execute_result"
    }
   ],
   "source": [
    "moraOutrasSP['NT_GER'].describe()"
   ]
  },
  {
   "cell_type": "code",
   "execution_count": 108,
   "metadata": {},
   "outputs": [
    {
     "data": {
      "text/plain": [
       "count    26308.000000\n",
       "mean        45.922221\n",
       "std         13.834198\n",
       "min          0.000000\n",
       "25%         36.200000\n",
       "50%         45.400000\n",
       "75%         55.400000\n",
       "max         95.100000\n",
       "Name: NT_GER, dtype: float64"
      ]
     },
     "execution_count": 108,
     "metadata": {},
     "output_type": "execute_result"
    }
   ],
   "source": [
    "#Somente nota de quem respondeu quantas horas estuda\n",
    "moraPaisMG=moraPaisMG.loc[(moraPaisMG['QE_I23'].notnull())]\n",
    "moraPaisMG.NT_GER.describe()"
   ]
  },
  {
   "cell_type": "code",
   "execution_count": 109,
   "metadata": {},
   "outputs": [
    {
     "data": {
      "text/plain": [
       "count    59946.000000\n",
       "mean        43.637195\n",
       "std         13.696504\n",
       "min          0.000000\n",
       "25%         33.900000\n",
       "50%         43.000000\n",
       "75%         53.000000\n",
       "max         93.500000\n",
       "Name: NT_GER, dtype: float64"
      ]
     },
     "execution_count": 109,
     "metadata": {},
     "output_type": "execute_result"
    }
   ],
   "source": [
    "#Somente nota de quem respondeu quantas horas estuda\n",
    "moraPaisSP=moraPaisSP.loc[(moraPaisSP['QE_I23'].notnull())]\n",
    "moraPaisSP.NT_GER.describe()"
   ]
  },
  {
   "cell_type": "code",
   "execution_count": 110,
   "metadata": {},
   "outputs": [
    {
     "data": {
      "text/plain": [
       "count    7088.000000\n",
       "mean       49.442339\n",
       "std        13.729479\n",
       "min         0.000000\n",
       "25%        39.900000\n",
       "50%        49.500000\n",
       "75%        59.100000\n",
       "max        95.100000\n",
       "Name: NT_GER, dtype: float64"
      ]
     },
     "execution_count": 110,
     "metadata": {},
     "output_type": "execute_result"
    }
   ],
   "source": [
    "#Somente nota de quem respondeu quantas horas estuda\n",
    "moraOutrasMG=moraOutrasMG.loc[(moraOutrasMG['QE_I23'].notnull())]\n",
    "moraOutrasMG.NT_GER.describe()"
   ]
  },
  {
   "cell_type": "code",
   "execution_count": 111,
   "metadata": {},
   "outputs": [
    {
     "data": {
      "text/plain": [
       "count    6068.000000\n",
       "mean       48.168820\n",
       "std        14.949128\n",
       "min         0.000000\n",
       "25%        38.000000\n",
       "50%        48.800000\n",
       "75%        58.700000\n",
       "max        92.300000\n",
       "Name: NT_GER, dtype: float64"
      ]
     },
     "execution_count": 111,
     "metadata": {},
     "output_type": "execute_result"
    }
   ],
   "source": [
    "#Somente nota de quem respondeu quantas horas estuda\n",
    "moraOutrasSP=moraOutrasSP.loc[(moraOutrasSP['QE_I23'].notnull())]\n",
    "moraOutrasSP.NT_GER.describe()"
   ]
  },
  {
   "cell_type": "markdown",
   "metadata": {},
   "source": [
    "### 4) Gráficos"
   ]
  },
  {
   "cell_type": "code",
   "execution_count": 112,
   "metadata": {},
   "outputs": [
    {
     "data": {
      "image/png": "[encoded data removed]",
      "text/plain": [
       "<Figure size 432x288 with 1 Axes>"
      ]
     },
     "metadata": {},
     "output_type": "display_data"
    }
   ],
   "source": [
    "import matplotlib.pyplot as plt\n",
    "#visualmente\n",
    "plt.scatter( moraPaisMG.NT_GER, moraPaisMG.QE_I23)\n",
    "plt.ylabel('Horas estudadas por dia')\n",
    "plt.xlabel('Nota dos estudantes que moram com os pais em Minas Gerais')\n",
    "plt.show()"
   ]
  },
  {
   "cell_type": "code",
   "execution_count": 113,
   "metadata": {},
   "outputs": [
    {
     "data": {
      "image/png": "[encoded data removed]",
      "text/plain": [
       "<Figure size 432x288 with 1 Axes>"
      ]
     },
     "metadata": {},
     "output_type": "display_data"
    }
   ],
   "source": [
    "import matplotlib.pyplot as plt\n",
    "#visualmente\n",
    "plt.scatter( moraOutrasMG.NT_GER, moraOutrasMG.QE_I23)\n",
    "plt.ylabel('Horas estudadas por dia')\n",
    "plt.xlabel('Nota dos estudantes que moram com outras pessoas em Minas Gerais')\n",
    "plt.show()"
   ]
  },
  {
   "cell_type": "code",
   "execution_count": 114,
   "metadata": {},
   "outputs": [
    {
     "data": {
      "image/png": "[encoded data removed]",
      "text/plain": [
       "<Figure size 432x288 with 1 Axes>"
      ]
     },
     "metadata": {},
     "output_type": "display_data"
    }
   ],
   "source": [
    "import matplotlib.pyplot as plt\n",
    "#visualmente\n",
    "plt.scatter( moraPaisSP.NT_GER, moraPaisSP.QE_I23)\n",
    "plt.ylabel('Horas estudadas por dia')\n",
    "plt.xlabel('Nota dose estudantes que moram com os pais em São Paulo')\n",
    "plt.show()"
   ]
  },
  {
   "cell_type": "code",
   "execution_count": 115,
   "metadata": {},
   "outputs": [
    {
     "data": {
      "image/png": "[encoded data removed]",
      "text/plain": [
       "<Figure size 432x288 with 1 Axes>"
      ]
     },
     "metadata": {},
     "output_type": "display_data"
    }
   ],
   "source": [
    "import matplotlib.pyplot as plt\n",
    "#visualmente\n",
    "plt.scatter( moraOutrasSP.NT_GER, moraOutrasSP.QE_I23)\n",
    "plt.ylabel('Horas estudadas por dia')\n",
    "plt.xlabel('Nota dos estudantes que moram com outras pessoas em São Paulo')\n",
    "plt.show()"
   ]
  },
  {
   "cell_type": "markdown",
   "metadata": {},
   "source": [
    "### 5) Verificando que existe variação"
   ]
  },
  {
   "cell_type": "code",
   "execution_count": 116,
   "metadata": {},
   "outputs": [
    {
     "data": {
      "text/plain": [
       "<matplotlib.axes._subplots.AxesSubplot at 0x15293268c18>"
      ]
     },
     "execution_count": 116,
     "metadata": {},
     "output_type": "execute_result"
    },
    {
     "data": {
      "image/png": "[encoded data removed]",
      "text/plain": [
       "<Figure size 432x288 with 1 Axes>"
      ]
     },
     "metadata": {},
     "output_type": "display_data"
    }
   ],
   "source": [
    "qeI23PaisMG = pandas.DataFrame(moraPaisMG, columns=['NT_GER', 'QE_I23'])\n",
    "qeI23PaisMG.boxplot(by='QE_I23')"
   ]
  },
  {
   "cell_type": "code",
   "execution_count": 117,
   "metadata": {},
   "outputs": [
    {
     "data": {
      "text/plain": [
       "<matplotlib.axes._subplots.AxesSubplot at 0x15289aa9128>"
      ]
     },
     "execution_count": 117,
     "metadata": {},
     "output_type": "execute_result"
    },
    {
     "data": {
      "image/png": "[encoded data removed]",
      "text/plain": [
       "<Figure size 432x288 with 1 Axes>"
      ]
     },
     "metadata": {},
     "output_type": "display_data"
    }
   ],
   "source": [
    "qeI23OutrasMG = pandas.DataFrame(moraOutrasMG, columns=['NT_GER', 'QE_I23'])\n",
    "qeI23OutrasMG.boxplot(by='QE_I23')"
   ]
  },
  {
   "cell_type": "code",
   "execution_count": 128,
   "metadata": {},
   "outputs": [
    {
     "data": {
      "text/plain": [
       "<matplotlib.axes._subplots.AxesSubplot at 0x15295544b00>"
      ]
     },
     "execution_count": 128,
     "metadata": {},
     "output_type": "execute_result"
    },
    {
     "data": {
      "image/png": "[encoded data removed]",
      "text/plain": [
       "<Figure size 432x288 with 1 Axes>"
      ]
     },
     "metadata": {},
     "output_type": "display_data"
    }
   ],
   "source": [
    "qeI23PaisSP = pandas.DataFrame(moraPaisSP, columns=['NT_GER', 'QE_I23'])\n",
    "qeI23PaisSP.boxplot(by='QE_I23')"
   ]
  },
  {
   "cell_type": "code",
   "execution_count": 119,
   "metadata": {},
   "outputs": [
    {
     "data": {
      "text/plain": [
       "<matplotlib.axes._subplots.AxesSubplot at 0x1528bf104a8>"
      ]
     },
     "execution_count": 119,
     "metadata": {},
     "output_type": "execute_result"
    },
    {
     "data": {
      "image/png": "[encoded data removed]",
      "text/plain": [
       "<Figure size 432x288 with 1 Axes>"
      ]
     },
     "metadata": {},
     "output_type": "display_data"
    }
   ],
   "source": [
    "qeI23OutrasSP = pandas.DataFrame(moraOutrasSP, columns=['NT_GER', 'QE_I23'])\n",
    "qeI23OutrasSP.boxplot(by='QE_I23')"
   ]
  },
  {
   "cell_type": "markdown",
   "metadata": {},
   "source": [
    "### 6) Análise de variância (ANOVA). Nota geral agrupada pela questão 23"
   ]
  },
  {
   "cell_type": "code",
   "execution_count": 120,
   "metadata": {},
   "outputs": [
    {
     "data": {
      "text/html": [
       "<div>\n",
       "<style scoped>\n",
       "    .dataframe tbody tr th:only-of-type {\n",
       "        vertical-align: middle;\n",
       "    }\n",
       "\n",
       "    .dataframe tbody tr th {\n",
       "        vertical-align: top;\n",
       "    }\n",
       "\n",
       "    .dataframe thead th {\n",
       "        text-align: right;\n",
       "    }\n",
       "</style>\n",
       "<table border=\"1\" class=\"dataframe\">\n",
       "  <thead>\n",
       "    <tr style=\"text-align: right;\">\n",
       "      <th></th>\n",
       "      <th>count</th>\n",
       "      <th>mean</th>\n",
       "      <th>std</th>\n",
       "      <th>min</th>\n",
       "      <th>25%</th>\n",
       "      <th>50%</th>\n",
       "      <th>75%</th>\n",
       "      <th>max</th>\n",
       "    </tr>\n",
       "    <tr>\n",
       "      <th>QE_I23</th>\n",
       "      <th></th>\n",
       "      <th></th>\n",
       "      <th></th>\n",
       "      <th></th>\n",
       "      <th></th>\n",
       "      <th></th>\n",
       "      <th></th>\n",
       "      <th></th>\n",
       "    </tr>\n",
       "  </thead>\n",
       "  <tbody>\n",
       "    <tr>\n",
       "      <th>A</th>\n",
       "      <td>17106.0</td>\n",
       "      <td>40.417152</td>\n",
       "      <td>14.334967</td>\n",
       "      <td>0.0</td>\n",
       "      <td>29.9</td>\n",
       "      <td>39.6</td>\n",
       "      <td>50.1</td>\n",
       "      <td>93.1</td>\n",
       "    </tr>\n",
       "    <tr>\n",
       "      <th>B</th>\n",
       "      <td>181399.0</td>\n",
       "      <td>41.533854</td>\n",
       "      <td>13.582981</td>\n",
       "      <td>0.0</td>\n",
       "      <td>31.8</td>\n",
       "      <td>40.8</td>\n",
       "      <td>50.6</td>\n",
       "      <td>98.1</td>\n",
       "    </tr>\n",
       "    <tr>\n",
       "      <th>C</th>\n",
       "      <td>133289.0</td>\n",
       "      <td>44.279702</td>\n",
       "      <td>13.869305</td>\n",
       "      <td>0.0</td>\n",
       "      <td>34.4</td>\n",
       "      <td>43.8</td>\n",
       "      <td>53.8</td>\n",
       "      <td>96.4</td>\n",
       "    </tr>\n",
       "    <tr>\n",
       "      <th>D</th>\n",
       "      <td>57856.0</td>\n",
       "      <td>46.061238</td>\n",
       "      <td>14.183914</td>\n",
       "      <td>0.0</td>\n",
       "      <td>36.0</td>\n",
       "      <td>45.7</td>\n",
       "      <td>55.9</td>\n",
       "      <td>97.0</td>\n",
       "    </tr>\n",
       "    <tr>\n",
       "      <th>E</th>\n",
       "      <td>53218.0</td>\n",
       "      <td>47.434507</td>\n",
       "      <td>14.484109</td>\n",
       "      <td>0.0</td>\n",
       "      <td>37.2</td>\n",
       "      <td>47.3</td>\n",
       "      <td>57.6</td>\n",
       "      <td>95.4</td>\n",
       "    </tr>\n",
       "  </tbody>\n",
       "</table>\n",
       "</div>"
      ],
      "text/plain": [
       "           count       mean        std  min   25%   50%   75%   max\n",
       "QE_I23                                                             \n",
       "A        17106.0  40.417152  14.334967  0.0  29.9  39.6  50.1  93.1\n",
       "B       181399.0  41.533854  13.582981  0.0  31.8  40.8  50.6  98.1\n",
       "C       133289.0  44.279702  13.869305  0.0  34.4  43.8  53.8  96.4\n",
       "D        57856.0  46.061238  14.183914  0.0  36.0  45.7  55.9  97.0\n",
       "E        53218.0  47.434507  14.484109  0.0  37.2  47.3  57.6  95.4"
      ]
     },
     "execution_count": 120,
     "metadata": {},
     "output_type": "execute_result"
    }
   ],
   "source": [
    "tabela['QE_I23'] = tabela['QE_I23'].map({ 0 :'A', 3 : 'B', 7 :'C', 12 :'D', 15 :'E'})\n",
    "tabela['NT_GER'].groupby(tabela['QE_I23']).describe()"
   ]
  },
  {
   "cell_type": "markdown",
   "metadata": {},
   "source": [
    "### 7) Teste de suposições."
   ]
  },
  {
   "cell_type": "code",
   "execution_count": 122,
   "metadata": {},
   "outputs": [
    {
     "name": "stdout",
     "output_type": "stream",
     "text": [
      "(0.9957844018936157, 0.008740131743252277)\n",
      "(0.9984173774719238, 0.0018865116871893406)\n"
     ]
    },
    {
     "data": {
      "text/plain": [
       "<matplotlib.axes._subplots.AxesSubplot at 0x152cd104940>"
      ]
     },
     "execution_count": 122,
     "metadata": {},
     "output_type": "execute_result"
    },
    {
     "data": {
      "image/png": "[encoded data removed]",
      "text/plain": [
       "<Figure size 432x288 with 1 Axes>"
      ]
     },
     "metadata": {},
     "output_type": "display_data"
    }
   ],
   "source": [
    "#teste das suposições\n",
    "import scipy.stats as stats\n",
    "\n",
    "print(stats.shapiro(qeI23PaisMG.NT_GER.loc[qeI23PaisMG.QE_I23 ==0]))\n",
    "\n",
    "print(stats.shapiro(qeI23PaisMG.NT_GER.loc[qeI23PaisMG.QE_I23 ==15]))\n",
    "\n",
    "#a saída do teste é o valor W e o p-value\n",
    "#Considera-se que a suposição não é violada quando o p-value é maior que alpha, normalmente 0.05\n",
    "\n",
    "#pelo histograma, também é possível observar a distribuição dos dados. \n",
    "qeI23PaisMG.NT_GER.loc[qeI23PaisMG.QE_I23 ==15].hist()"
   ]
  },
  {
   "cell_type": "code",
   "execution_count": 124,
   "metadata": {},
   "outputs": [
    {
     "name": "stdout",
     "output_type": "stream",
     "text": [
      "(0.993804395198822, 0.6676777005195618)\n",
      "(0.9948428869247437, 6.755581125617027e-05)\n"
     ]
    },
    {
     "data": {
      "text/plain": [
       "<matplotlib.axes._subplots.AxesSubplot at 0x1528632c898>"
      ]
     },
     "execution_count": 124,
     "metadata": {},
     "output_type": "execute_result"
    },
    {
     "data": {
      "image/png": "[encoded data removed]",
      "text/plain": [
       "<Figure size 432x288 with 1 Axes>"
      ]
     },
     "metadata": {},
     "output_type": "display_data"
    }
   ],
   "source": [
    "#teste das suposições\n",
    "import scipy.stats as stats\n",
    "\n",
    "print(stats.shapiro(qeI23OutrasMG.NT_GER.loc[qeI23OutrasMG.QE_I23 ==0]))\n",
    "\n",
    "print(stats.shapiro(qeI23OutrasMG.NT_GER.loc[qeI23OutrasMG.QE_I23 ==15]))\n",
    "\n",
    "#a saída do teste é o valor W e o p-value\n",
    "#Considera-se que a suposição não é violada quando o p-value é maior que alpha, normalmente 0.05\n",
    "\n",
    "#pelo histograma, também é possível observar a distribuição dos dados. \n",
    "qeI23OutrasMG.NT_GER.loc[qeI23OutrasMG.QE_I23 ==15].hist()"
   ]
  },
  {
   "cell_type": "code",
   "execution_count": 132,
   "metadata": {},
   "outputs": [
    {
     "name": "stdout",
     "output_type": "stream",
     "text": [
      "(0.9931306838989258, 2.3116715139326338e-11)\n",
      "(0.9985318779945374, 1.0190023203904275e-05)\n"
     ]
    },
    {
     "name": "stderr",
     "output_type": "stream",
     "text": [
      "C:\\Users\\David\\Anaconda3\\lib\\site-packages\\scipy\\stats\\morestats.py:1309: UserWarning: p-value may not be accurate for N > 5000.\n",
      "  warnings.warn(\"p-value may not be accurate for N > 5000.\")\n"
     ]
    },
    {
     "data": {
      "text/plain": [
       "<matplotlib.axes._subplots.AxesSubplot at 0x15292484278>"
      ]
     },
     "execution_count": 132,
     "metadata": {},
     "output_type": "execute_result"
    },
    {
     "data": {
      "image/png": "[encoded data removed]",
      "text/plain": [
       "<Figure size 432x288 with 1 Axes>"
      ]
     },
     "metadata": {},
     "output_type": "display_data"
    }
   ],
   "source": [
    "#teste das suposições\n",
    "import scipy.stats as stats\n",
    "\n",
    "print(stats.shapiro(qeI23PaisSP.NT_GER.loc[qeI23PaisSP.QE_I23 ==0]))\n",
    "\n",
    "print(stats.shapiro(qeI23PaisSP.NT_GER.loc[qeI23PaisSP.QE_I23 ==15]))\n",
    "\n",
    "#a saída do teste é o valor W e o p-value\n",
    "#Considera-se que a suposição não é violada quando o p-value é maior que alpha, normalmente 0.05\n",
    "\n",
    "#pelo histograma, também é possível observar a distribuição dos dados. \n",
    "qeI23PaisSP.NT_GER.loc[qeI23PaisSP.QE_I23 ==15].hist()"
   ]
  },
  {
   "cell_type": "code",
   "execution_count": 127,
   "metadata": {},
   "outputs": [
    {
     "name": "stdout",
     "output_type": "stream",
     "text": [
      "(0.9941361546516418, 0.4083026349544525)\n",
      "(0.9828819036483765, 4.722251478739281e-09)\n"
     ]
    },
    {
     "data": {
      "text/plain": [
       "<matplotlib.axes._subplots.AxesSubplot at 0x152895027b8>"
      ]
     },
     "execution_count": 127,
     "metadata": {},
     "output_type": "execute_result"
    },
    {
     "data": {
      "image/png": "[encoded data removed]",
      "text/plain": [
       "<Figure size 432x288 with 1 Axes>"
      ]
     },
     "metadata": {},
     "output_type": "display_data"
    }
   ],
   "source": [
    "#teste das suposições\n",
    "import scipy.stats as stats\n",
    "\n",
    "print(stats.shapiro(qeI23OutrasSP.NT_GER.loc[qeI23OutrasSP.QE_I23 ==0]))\n",
    "\n",
    "print(stats.shapiro(qeI23OutrasSP.NT_GER.loc[qeI23OutrasSP.QE_I23 ==15]))\n",
    "\n",
    "#a saída do teste é o valor W e o p-value\n",
    "#Considera-se que a suposição não é violada quando o p-value é maior que alpha, normalmente 0.05\n",
    "\n",
    "#pelo histograma, também é possível observar a distribuição dos dados. \n",
    "qeI23OutrasSP.NT_GER.loc[qeI23OutrasSP.QE_I23 ==15].hist()"
   ]
  },
  {
   "cell_type": "code",
   "execution_count": 138,
   "metadata": {},
   "outputs": [
    {
     "name": "stdout",
     "output_type": "stream",
     "text": [
      "Mann-Whitney: Estatisticas=1196180.000, p=0.000\n",
      "Distribução diferente\n",
      "Kruskal-Wallis: Estatisticas=190.248, p=0.000\n",
      "Distribução diferente\n",
      "Anova: Estatisticas=199.600, p=0.000\n",
      "Distribução diferente\n"
     ]
    }
   ],
   "source": [
    "# teste não paramétrico são métodos que não assumem uma distribuição específica para os dados.\n",
    "stat, p = stats.mannwhitneyu(qeI23PaisMG.NT_GER.loc[qeI23PaisMG.QE_I23 ==0], qeI23PaisMG.NT_GER.loc[qeI23PaisMG.QE_I23 ==15])\n",
    "\n",
    "print('Mann-Whitney: Estatisticas=%.3f, p=%.3f' % (stat, p))\n",
    "\n",
    "alpha = 0.05\n",
    "if p > alpha:\n",
    "\tprint('Mesma distribuição')\n",
    "else:\n",
    "\tprint('Distribução diferente')\n",
    "    \n",
    "    \n",
    "stat, p = stats.kruskal(qeI23PaisMG.NT_GER.loc[qeI23PaisMG.QE_I23 ==0], qeI23PaisMG.NT_GER.loc[qeI23PaisMG.QE_I23 ==15])\n",
    "print('Kruskal-Wallis: Estatisticas=%.3f, p=%.3f' % (stat, p))\n",
    "\n",
    "if p > alpha:\n",
    "\tprint('Mesma distribuição')\n",
    "else:\n",
    "\tprint('Distribução diferente')\n",
    "    \n",
    "#anova\n",
    "stat, p = stats.f_oneway(qeI23PaisMG.NT_GER.loc[qeI23PaisMG.QE_I23 ==0], qeI23PaisMG.NT_GER.loc[qeI23PaisMG.QE_I23 ==15])\n",
    "print('Anova: Estatisticas=%.3f, p=%.3f' % (stat, p))\n",
    "if p > alpha:\n",
    "\tprint('Mesma distribuição')\n",
    "else:\n",
    "\tprint('Distribução diferente')"
   ]
  },
  {
   "cell_type": "code",
   "execution_count": 139,
   "metadata": {},
   "outputs": [
    {
     "name": "stdout",
     "output_type": "stream",
     "text": [
      "Mann-Whitney: Estatisticas=106050.000, p=0.000\n",
      "Distribução diferente\n",
      "Kruskal-Wallis: Estatisticas=13.514, p=0.000\n",
      "Distribução diferente\n",
      "Anova: Estatisticas=16.476, p=0.000\n",
      "Distribução diferente\n"
     ]
    }
   ],
   "source": [
    "# teste não paramétrico são métodos que não assumem uma distribuição específica para os dados.\n",
    "stat, p = stats.mannwhitneyu(qeI23OutrasMG.NT_GER.loc[qeI23OutrasMG.QE_I23 ==0], qeI23OutrasMG.NT_GER.loc[qeI23OutrasMG.QE_I23 ==15])\n",
    "\n",
    "print('Mann-Whitney: Estatisticas=%.3f, p=%.3f' % (stat, p))\n",
    "\n",
    "alpha = 0.05\n",
    "if p > alpha:\n",
    "\tprint('Mesma distribuição')\n",
    "else:\n",
    "\tprint('Distribução diferente')\n",
    "    \n",
    "    \n",
    "stat, p = stats.kruskal(qeI23OutrasMG.NT_GER.loc[qeI23OutrasMG.QE_I23 ==0], qeI23OutrasMG.NT_GER.loc[qeI23OutrasMG.QE_I23 ==15])\n",
    "print('Kruskal-Wallis: Estatisticas=%.3f, p=%.3f' % (stat, p))\n",
    "\n",
    "if p > alpha:\n",
    "\tprint('Mesma distribuição')\n",
    "else:\n",
    "\tprint('Distribução diferente')\n",
    "    \n",
    "#anova\n",
    "stat, p = stats.f_oneway(qeI23OutrasMG.NT_GER.loc[qeI23OutrasMG.QE_I23 ==0], qeI23OutrasMG.NT_GER.loc[qeI23OutrasMG.QE_I23 ==15])\n",
    "print('Anova: Estatisticas=%.3f, p=%.3f' % (stat, p))\n",
    "if p > alpha:\n",
    "\tprint('Mesma distribuição')\n",
    "else:\n",
    "\tprint('Distribução diferente')"
   ]
  },
  {
   "cell_type": "code",
   "execution_count": 142,
   "metadata": {},
   "outputs": [
    {
     "name": "stdout",
     "output_type": "stream",
     "text": [
      "Mann-Whitney: Estatisticas=7737718.500, p=0.000\n",
      "Distribução diferente\n",
      "Kruskal-Wallis: Estatisticas=476.653, p=0.000\n",
      "Distribução diferente\n",
      "Anova: Estatisticas=484.552, p=0.000\n",
      "Distribução diferente\n"
     ]
    }
   ],
   "source": [
    "# teste não paramétrico são métodos que não assumem uma distribuição específica para os dados.\n",
    "stat, p = stats.mannwhitneyu(qeI23PaisSP.NT_GER.loc[qeI23PaisSP.QE_I23 ==0], qeI23PaisSP.NT_GER.loc[qeI23PaisSP.QE_I23 ==15])\n",
    "\n",
    "print('Mann-Whitney: Estatisticas=%.3f, p=%.3f' % (stat, p))\n",
    "\n",
    "alpha = 0.05\n",
    "if p > alpha:\n",
    "\tprint('Mesma distribuição')\n",
    "else:\n",
    "\tprint('Distribução diferente')\n",
    "    \n",
    "    \n",
    "stat, p = stats.kruskal(qeI23PaisSP.NT_GER.loc[qeI23PaisSP.QE_I23 ==0], qeI23PaisSP.NT_GER.loc[qeI23PaisSP.QE_I23 ==15])\n",
    "print('Kruskal-Wallis: Estatisticas=%.3f, p=%.3f' % (stat, p))\n",
    "\n",
    "if p > alpha:\n",
    "\tprint('Mesma distribuição')\n",
    "else:\n",
    "\tprint('Distribução diferente')\n",
    "    \n",
    "#anova\n",
    "stat, p = stats.f_oneway(qeI23PaisSP.NT_GER.loc[qeI23PaisSP.QE_I23 ==0], qeI23PaisSP.NT_GER.loc[qeI23PaisSP.QE_I23 ==15])\n",
    "print('Anova: Estatisticas=%.3f, p=%.3f' % (stat, p))\n",
    "if p > alpha:\n",
    "\tprint('Mesma distribuição')\n",
    "else:\n",
    "\tprint('Distribução diferente')"
   ]
  },
  {
   "cell_type": "code",
   "execution_count": 143,
   "metadata": {},
   "outputs": [
    {
     "name": "stdout",
     "output_type": "stream",
     "text": [
      "Mann-Whitney: Estatisticas=89793.000, p=0.000\n",
      "Distribução diferente\n",
      "Kruskal-Wallis: Estatisticas=44.250, p=0.000\n",
      "Distribução diferente\n",
      "Anova: Estatisticas=37.516, p=0.000\n",
      "Distribução diferente\n"
     ]
    }
   ],
   "source": [
    "# teste não paramétrico são métodos que não assumem uma distribuição específica para os dados.\n",
    "stat, p = stats.mannwhitneyu(qeI23OutrasSP.NT_GER.loc[qeI23OutrasSP.QE_I23 ==0], qeI23OutrasSP.NT_GER.loc[qeI23OutrasSP.QE_I23 ==15])\n",
    "\n",
    "print('Mann-Whitney: Estatisticas=%.3f, p=%.3f' % (stat, p))\n",
    "\n",
    "alpha = 0.05\n",
    "if p > alpha:\n",
    "\tprint('Mesma distribuição')\n",
    "else:\n",
    "\tprint('Distribução diferente')\n",
    "    \n",
    "    \n",
    "stat, p = stats.kruskal(qeI23OutrasSP.NT_GER.loc[qeI23OutrasSP.QE_I23 ==0], qeI23OutrasSP.NT_GER.loc[qeI23OutrasSP.QE_I23 ==15])\n",
    "print('Kruskal-Wallis: Estatisticas=%.3f, p=%.3f' % (stat, p))\n",
    "\n",
    "if p > alpha:\n",
    "\tprint('Mesma distribuição')\n",
    "else:\n",
    "\tprint('Distribução diferente')\n",
    "    \n",
    "#anova\n",
    "stat, p = stats.f_oneway(qeI23OutrasSP.NT_GER.loc[qeI23OutrasSP.QE_I23 ==0], qeI23OutrasSP.NT_GER.loc[qeI23OutrasSP.QE_I23 ==15])\n",
    "print('Anova: Estatisticas=%.3f, p=%.3f' % (stat, p))\n",
    "if p > alpha:\n",
    "\tprint('Mesma distribuição')\n",
    "else:\n",
    "\tprint('Distribução diferente')"
   ]
  },
  {
   "cell_type": "code",
   "execution_count": null,
   "metadata": {},
   "outputs": [],
   "source": []
  }
 ],
 "metadata": {
  "kernelspec": {
   "display_name": "Python 3",
   "language": "python",
   "name": "python3"
  },
  "language_info": {
   "codemirror_mode": {
    "name": "ipython",
    "version": 3
   },
   "file_extension": ".py",
   "mimetype": "text/x-python",
   "name": "python",
   "nbconvert_exporter": "python",
   "pygments_lexer": "ipython3",
   "version": "3.6.5"
  }
 },
 "nbformat": 4,
 "nbformat_minor": 2
}

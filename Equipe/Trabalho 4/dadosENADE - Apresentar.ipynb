{
 "cells": [
  {
   "cell_type": "markdown",
   "metadata": {},
   "source": [
    "# Atividade 4: Trabalhando com Dados do ENADE 2017"
   ]
  },
  {
   "cell_type": "markdown",
   "metadata": {},
   "source": [
    "### 1) Importação de dados e bibliotecas"
   ]
  },
  {
   "cell_type": "code",
   "execution_count": 25,
   "metadata": {},
   "outputs": [
    {
     "data": {
      "text/plain": [
       "(537436, 150)"
      ]
     },
     "execution_count": 25,
     "metadata": {},
     "output_type": "execute_result"
    }
   ],
   "source": [
    "import pandas\n",
    "import matplotlib.pyplot as plt\n",
    "\n",
    "enade2017=pandas.read_csv(\"MICRODADOS_ENADE_2017.txt\", sep=';',dtype={\"DS_VT_ESC_OFG\": str, \n",
    "                                                                               'DS_VT_ESC_OCE':str,\n",
    "                                                                              'DS_VT_ACE_OCE':str,\n",
    "                                                                              'NT_GER':str,\n",
    "                                                                              'NT_FG':str,\n",
    "                                                                              'NT_OBJ_FG':str,\n",
    "                                                                              'NT_DIS_FG':str,\n",
    "                                                                              'NT_CE':str,\n",
    "                                                                              'NT_OBJ_CE':str,\n",
    "                                                                              'NT_DIS_CE':str})\n",
    "\n",
    "\n",
    "enade2017.shape"
   ]
  },
  {
   "cell_type": "markdown",
   "metadata": {},
   "source": [
    "### 2) Escolhendo colunas de interesse da tabela."
   ]
  },
  {
   "cell_type": "code",
   "execution_count": 26,
   "metadata": {},
   "outputs": [
    {
     "data": {
      "text/html": [
       "<div>\n",
       "<style scoped>\n",
       "    .dataframe tbody tr th:only-of-type {\n",
       "        vertical-align: middle;\n",
       "    }\n",
       "\n",
       "    .dataframe tbody tr th {\n",
       "        vertical-align: top;\n",
       "    }\n",
       "\n",
       "    .dataframe thead th {\n",
       "        text-align: right;\n",
       "    }\n",
       "</style>\n",
       "<table border=\"1\" class=\"dataframe\">\n",
       "  <thead>\n",
       "    <tr style=\"text-align: right;\">\n",
       "      <th></th>\n",
       "      <th>NT_GER</th>\n",
       "      <th>CO_GRUPO</th>\n",
       "      <th>QE_I06</th>\n",
       "      <th>QE_I13</th>\n",
       "    </tr>\n",
       "  </thead>\n",
       "  <tbody>\n",
       "    <tr>\n",
       "      <th>0</th>\n",
       "      <td>52,6</td>\n",
       "      <td>5710</td>\n",
       "      <td>A</td>\n",
       "      <td>A</td>\n",
       "    </tr>\n",
       "    <tr>\n",
       "      <th>1</th>\n",
       "      <td>63,1</td>\n",
       "      <td>5710</td>\n",
       "      <td>C</td>\n",
       "      <td>A</td>\n",
       "    </tr>\n",
       "    <tr>\n",
       "      <th>2</th>\n",
       "      <td>33,7</td>\n",
       "      <td>5710</td>\n",
       "      <td>B</td>\n",
       "      <td>D</td>\n",
       "    </tr>\n",
       "    <tr>\n",
       "      <th>3</th>\n",
       "      <td>58,1</td>\n",
       "      <td>5710</td>\n",
       "      <td>D</td>\n",
       "      <td>A</td>\n",
       "    </tr>\n",
       "    <tr>\n",
       "      <th>4</th>\n",
       "      <td>46,3</td>\n",
       "      <td>5710</td>\n",
       "      <td>B</td>\n",
       "      <td>A</td>\n",
       "    </tr>\n",
       "    <tr>\n",
       "      <th>5</th>\n",
       "      <td>64,2</td>\n",
       "      <td>5710</td>\n",
       "      <td>B</td>\n",
       "      <td>D</td>\n",
       "    </tr>\n",
       "    <tr>\n",
       "      <th>6</th>\n",
       "      <td>41,4</td>\n",
       "      <td>5710</td>\n",
       "      <td>B</td>\n",
       "      <td>D</td>\n",
       "    </tr>\n",
       "    <tr>\n",
       "      <th>7</th>\n",
       "      <td>48,8</td>\n",
       "      <td>5710</td>\n",
       "      <td>B</td>\n",
       "      <td>A</td>\n",
       "    </tr>\n",
       "    <tr>\n",
       "      <th>8</th>\n",
       "      <td>52,9</td>\n",
       "      <td>5710</td>\n",
       "      <td>B</td>\n",
       "      <td>A</td>\n",
       "    </tr>\n",
       "    <tr>\n",
       "      <th>9</th>\n",
       "      <td>62,7</td>\n",
       "      <td>5710</td>\n",
       "      <td>B</td>\n",
       "      <td>D</td>\n",
       "    </tr>\n",
       "  </tbody>\n",
       "</table>\n",
       "</div>"
      ],
      "text/plain": [
       "  NT_GER  CO_GRUPO QE_I06 QE_I13\n",
       "0   52,6      5710      A      A\n",
       "1   63,1      5710      C      A\n",
       "2   33,7      5710      B      D\n",
       "3   58,1      5710      D      A\n",
       "4   46,3      5710      B      A\n",
       "5   64,2      5710      B      D\n",
       "6   41,4      5710      B      D\n",
       "7   48,8      5710      B      A\n",
       "8   52,9      5710      B      A\n",
       "9   62,7      5710      B      D"
      ]
     },
     "execution_count": 26,
     "metadata": {},
     "output_type": "execute_result"
    }
   ],
   "source": [
    "\n",
    "'''\n",
    "NT_GER\n",
    "Nota bruta da prova - Média ponderada da formação geral (25%) e componente específico (75%). (valor de 0 a 100)\n",
    "min = 0\n",
    "max = 98,10\n",
    "\n",
    "CO_GRUPO\n",
    "Código da área de enquadramento do curso no Enade\n",
    "Entre 21 e 6409\n",
    "\n",
    "QE_I06: Onde e com quem você mora atualmente?\n",
    "A = Em casa ou apartamento, sozinho.\n",
    "B = Em casa ou apartamento, com pais e/ou parentes.\n",
    "C = Em casa ou apartamento, com cônjuge e/ou filhos.\n",
    "D = Em casa ou apartamento, com outras pessoas (incluindo república).\n",
    "E = Em alojamento universitário da própria instituição.\n",
    "F = Em outros tipos de habitação individual ou coletiva (hotel, hospedaria, pensão ou outro)\n",
    "\n",
    "QE_I13: Ao longo da sua trajetória acadêmica, você recebeu algum tipo de bolsa acadêmica?\n",
    "No caso de haver mais de uma opção, marcar apenas a bolsa de maior duração.\n",
    "A = Nenhum.\n",
    "B = Bolsa de iniciação científica.\n",
    "C = Bolsa de extensão.\n",
    "D = Bolsa de monitoria/tutoria.\n",
    "E = Bolsa PET.\n",
    "F = Outro tipo de bolsa acadêmica.\n",
    "\n",
    "'''\n",
    "\n",
    "tabela = pandas.DataFrame(enade2017, columns=['NT_GER', 'CO_GRUPO', 'QE_I06', 'QE_I13'])\n",
    "tabela.head(10)"
   ]
  },
  {
   "cell_type": "markdown",
   "metadata": {},
   "source": [
    "### 3) Tratamento dos dados da tabela."
   ]
  },
  {
   "cell_type": "code",
   "execution_count": 27,
   "metadata": {},
   "outputs": [],
   "source": [
    "#Restringindo o estudo dentre os alunos do curso de Ciência da Computação\n",
    "ccomp = tabela[tabela['CO_GRUPO']==4004]"
   ]
  },
  {
   "cell_type": "code",
   "execution_count": 28,
   "metadata": {},
   "outputs": [
    {
     "name": "stdout",
     "output_type": "stream",
     "text": [
      "383       58.7\n",
      "384       49.8\n",
      "385        NaN\n",
      "386       40.1\n",
      "387       53.2\n",
      "388       52.4\n",
      "389       22.4\n",
      "390       53.3\n",
      "391       44.4\n",
      "392       66.0\n",
      "393       36.5\n",
      "394       32.1\n",
      "395       23.0\n",
      "396       55.8\n",
      "397       35.5\n",
      "398       39.5\n",
      "399       68.3\n",
      "400       46.5\n",
      "401       39.1\n",
      "402       25.4\n",
      "403       36.0\n",
      "404       54.9\n",
      "405       61.9\n",
      "450       43.3\n",
      "451       50.6\n",
      "452       62.8\n",
      "453       42.7\n",
      "454       51.5\n",
      "455       79.9\n",
      "456        NaN\n",
      "          ... \n",
      "535801     NaN\n",
      "536049     NaN\n",
      "536050     NaN\n",
      "537204     NaN\n",
      "537205     NaN\n",
      "537206     NaN\n",
      "537207     NaN\n",
      "537208     NaN\n",
      "537209     NaN\n",
      "537210     NaN\n",
      "537211     NaN\n",
      "537212     NaN\n",
      "537213     NaN\n",
      "537214     NaN\n",
      "537215     NaN\n",
      "537216     NaN\n",
      "537217     NaN\n",
      "537218     NaN\n",
      "537219     NaN\n",
      "537220     NaN\n",
      "537221     NaN\n",
      "537222     NaN\n",
      "537223     NaN\n",
      "537224     NaN\n",
      "537225     NaN\n",
      "537226     NaN\n",
      "537227     NaN\n",
      "537228     NaN\n",
      "537229     NaN\n",
      "537230     NaN\n",
      "Name: NT_GER, Length: 10186, dtype: object\n"
     ]
    },
    {
     "name": "stderr",
     "output_type": "stream",
     "text": [
      "C:\\Users\\IFNMG\\Anaconda3\\lib\\site-packages\\ipykernel_launcher.py:3: SettingWithCopyWarning: \n",
      "A value is trying to be set on a copy of a slice from a DataFrame.\n",
      "Try using .loc[row_indexer,col_indexer] = value instead\n",
      "\n",
      "See the caveats in the documentation: http://pandas.pydata.org/pandas-docs/stable/indexing.html#indexing-view-versus-copy\n",
      "  This is separate from the ipykernel package so we can avoid doing imports until\n"
     ]
    }
   ],
   "source": [
    "# limpeza dos dados\n",
    "# substitui vírgula por ponto\n",
    "ccomp['NT_GER'] = ccomp['NT_GER'].str.replace(',', '.')\n",
    "print (ccomp['NT_GER'])\n",
    "\n",
    "#observe os NaN (not a number)"
   ]
  },
  {
   "cell_type": "code",
   "execution_count": 29,
   "metadata": {},
   "outputs": [
    {
     "name": "stdout",
     "output_type": "stream",
     "text": [
      "        NT_GER  CO_GRUPO QE_I06 QE_I13\n",
      "383       58.7      4004      B      B\n",
      "384       49.8      4004      A      C\n",
      "386       40.1      4004      B      B\n",
      "387       53.2      4004      D      B\n",
      "388       52.4      4004      B      B\n",
      "389       22.4      4004      A      A\n",
      "390       53.3      4004      A      B\n",
      "391       44.4      4004      B      B\n",
      "392       66.0      4004      B      B\n",
      "393       36.5      4004      B      C\n",
      "394       32.1      4004      B      A\n",
      "395       23.0      4004      B      B\n",
      "396       55.8      4004      B      B\n",
      "397       35.5      4004      B      B\n",
      "398       39.5      4004      C      C\n",
      "399       68.3      4004      B      B\n",
      "400       46.5      4004      B      B\n",
      "401       39.1      4004      D      B\n",
      "402       25.4      4004      D      B\n",
      "403       36.0      4004      B      B\n",
      "404       54.9      4004      D      D\n",
      "405       61.9      4004      D      B\n",
      "450       43.3      4004      B      A\n",
      "451       50.6      4004    NaN    NaN\n",
      "452       62.8      4004      B      B\n",
      "453       42.7      4004      B      A\n",
      "454       51.5      4004    NaN    NaN\n",
      "455       79.9      4004      B      A\n",
      "457       73.9      4004      B      D\n",
      "458       51.8      4004      B      D\n",
      "...        ...       ...    ...    ...\n",
      "534350    36.6      4004      B      A\n",
      "534351    43.2      4004      B      A\n",
      "534352    35.9      4004      B      A\n",
      "534353    35.2      4004      B      A\n",
      "534354    32.1      4004      B      A\n",
      "534355    40.6      4004      B      A\n",
      "534356    38.9      4004      C      A\n",
      "534358    35.3      4004      C      A\n",
      "534359    36.0      4004      D      A\n",
      "534360    39.8      4004      B      A\n",
      "534361    35.4      4004      B      A\n",
      "534362    32.4      4004      B      A\n",
      "534363    33.2      4004      D      A\n",
      "534364    30.7      4004      B      A\n",
      "534365    16.2      4004      B      A\n",
      "534367    30.1      4004      B      A\n",
      "534368    35.1      4004      B      A\n",
      "534369    26.0      4004      B      A\n",
      "534370    27.7      4004      B      A\n",
      "534371    44.2      4004      B      A\n",
      "534372    33.7      4004      F      A\n",
      "534373    19.6      4004      B      A\n",
      "534374    34.6      4004      B      A\n",
      "534375    27.4      4004      B      A\n",
      "534376    18.1      4004      B      A\n",
      "534377    35.7      4004      B      A\n",
      "534378    33.3      4004      B      A\n",
      "534380    26.6      4004      B      A\n",
      "534381    28.7      4004      A      A\n",
      "534382    32.5      4004      B      A\n",
      "\n",
      "[8489 rows x 4 columns]\n",
      "43.26277535634357\n"
     ]
    }
   ],
   "source": [
    "'''\n",
    "No arquivo 'Dicionário de variáveis dos Microdados do Enade_Edição 2017' descreve que:\n",
    "o codigo 222 no campo TP_PR_GER significa ausente \n",
    "556 e 888 são participações desconsideradas.\n",
    "Portanto, algumas notas podem ser desconsideradas dependendo do seu objetivo, \n",
    "e aqui, será de calcular a média daqueles que fizeram a prova.\n",
    "'''\n",
    "ccomp = ccomp.loc[(ccomp['NT_GER'].notnull())]\n",
    "\n",
    "ccomp['NT_GER'] = pandas.to_numeric(ccomp['NT_GER'])\n",
    "\n",
    "print(ccomp)\n",
    "print(ccomp['NT_GER'].mean())"
   ]
  },
  {
   "cell_type": "markdown",
   "metadata": {},
   "source": [
    "### 4) Resumo estatístico."
   ]
  },
  {
   "cell_type": "code",
   "execution_count": 30,
   "metadata": {},
   "outputs": [
    {
     "data": {
      "text/plain": [
       "count    8489.000000\n",
       "mean       43.262775\n",
       "std        13.633212\n",
       "min         0.000000\n",
       "25%        33.700000\n",
       "50%        42.300000\n",
       "75%        52.400000\n",
       "max        95.100000\n",
       "Name: NT_GER, dtype: float64"
      ]
     },
     "execution_count": 30,
     "metadata": {},
     "output_type": "execute_result"
    }
   ],
   "source": [
    "ccomp['NT_GER'].describe()"
   ]
  },
  {
   "cell_type": "markdown",
   "metadata": {},
   "source": [
    "### 5) Estudo sobre a base de dados."
   ]
  },
  {
   "cell_type": "markdown",
   "metadata": {},
   "source": [
    "Vamos analisar para as questões escolhidas, as notas dos alunos que receberam algum recebimento de bolsa comparado àqueles que não receberam nenhuma bola. Também iremos analisar os alunos que moram ou não com os pais."
   ]
  },
  {
   "cell_type": "code",
   "execution_count": 31,
   "metadata": {},
   "outputs": [],
   "source": [
    "#somente as notas de quem respondeu a questão sobre bolsas\n",
    "ccomp=ccomp.loc[(ccomp['QE_I13'].notnull())]\n",
    "\n",
    "#somente as notas de quem respondeu a questão sobre moradia\n",
    "ccomp=ccomp.loc[(ccomp['QE_I06'].notnull())]"
   ]
  },
  {
   "cell_type": "markdown",
   "metadata": {},
   "source": [
    "### 6) Mapeamento de valores"
   ]
  },
  {
   "cell_type": "code",
   "execution_count": 32,
   "metadata": {},
   "outputs": [],
   "source": [
    "ccomp['QE_I06'] = ccomp['QE_I06'].map({'A': 1, 'B': 2, 'C': 3, 'D': 4,'E': 5, 'F':6})\n",
    "ccomp['QE_I13'] = ccomp['QE_I13'].map({'A': 1, 'B': 2, 'C': 3, 'D': 4,'E': 5, 'F':6})"
   ]
  },
  {
   "cell_type": "code",
   "execution_count": 33,
   "metadata": {},
   "outputs": [
    {
     "data": {
      "text/plain": [
       "383    2\n",
       "384    1\n",
       "386    2\n",
       "387    4\n",
       "388    2\n",
       "389    1\n",
       "390    1\n",
       "391    2\n",
       "392    2\n",
       "393    2\n",
       "Name: QE_I06, dtype: int64"
      ]
     },
     "execution_count": 33,
     "metadata": {},
     "output_type": "execute_result"
    }
   ],
   "source": [
    "ccomp.QE_I06.head(10)"
   ]
  },
  {
   "cell_type": "code",
   "execution_count": 34,
   "metadata": {},
   "outputs": [
    {
     "data": {
      "text/plain": [
       "383    2\n",
       "384    3\n",
       "386    2\n",
       "387    2\n",
       "388    2\n",
       "389    1\n",
       "390    2\n",
       "391    2\n",
       "392    2\n",
       "393    3\n",
       "Name: QE_I13, dtype: int64"
      ]
     },
     "execution_count": 34,
     "metadata": {},
     "output_type": "execute_result"
    }
   ],
   "source": [
    "ccomp.QE_I13.head(10)"
   ]
  },
  {
   "cell_type": "markdown",
   "metadata": {},
   "source": [
    "### Gráficos"
   ]
  },
  {
   "cell_type": "code",
   "execution_count": 35,
   "metadata": {},
   "outputs": [
    {
     "data": {
      "image/png": "[encoded data removed]",
      "text/plain": [
       "<Figure size 432x288 with 1 Axes>"
      ]
     },
     "metadata": {},
     "output_type": "display_data"
    }
   ],
   "source": [
    "#visualmente\n",
    "plt.scatter( ccomp.NT_GER, ccomp.QE_I06)\n",
    "plt.ylabel('Onde e com quem você mora atualmente')\n",
    "plt.xlabel('Nota do curso de C. da Comp.')\n",
    "plt.show()"
   ]
  },
  {
   "cell_type": "code",
   "execution_count": 36,
   "metadata": {},
   "outputs": [
    {
     "data": {
      "text/plain": [
       "count    5762.000000\n",
       "mean       43.470462\n",
       "std        13.539830\n",
       "min         0.000000\n",
       "25%        34.100000\n",
       "50%        42.500000\n",
       "75%        52.500000\n",
       "max        95.100000\n",
       "Name: NT_GER, dtype: float64"
      ]
     },
     "execution_count": 36,
     "metadata": {},
     "output_type": "execute_result"
    }
   ],
   "source": [
    "#Estudantes que moram com os pais\n",
    "compais = ccomp.loc[ccomp.QE_I06 == 2]\n",
    "compais.NT_GER.describe()"
   ]
  },
  {
   "cell_type": "code",
   "execution_count": 37,
   "metadata": {},
   "outputs": [
    {
     "data": {
      "text/plain": [
       "count    2646.000000\n",
       "mean       43.007029\n",
       "std        13.810349\n",
       "min         0.000000\n",
       "25%        33.200000\n",
       "50%        41.900000\n",
       "75%        52.500000\n",
       "max        85.900000\n",
       "Name: NT_GER, dtype: float64"
      ]
     },
     "execution_count": 37,
     "metadata": {},
     "output_type": "execute_result"
    }
   ],
   "source": [
    "#Estudantes que moram sem os pais\n",
    "sempais = ccomp.loc[ccomp.QE_I06 != 2]\n",
    "sempais.NT_GER.describe()"
   ]
  },
  {
   "cell_type": "code",
   "execution_count": 38,
   "metadata": {},
   "outputs": [
    {
     "data": {
      "image/png": "[encoded data removed]",
      "text/plain": [
       "<Figure size 432x288 with 1 Axes>"
      ]
     },
     "metadata": {},
     "output_type": "display_data"
    }
   ],
   "source": [
    "#visualmente\n",
    "plt.scatter( ccomp.NT_GER, ccomp.QE_I13)\n",
    "plt.ylabel('Recebimento de bosla ao longa da trajetória acadêmica')\n",
    "plt.xlabel('Nota do curso de C. da Comp.')\n",
    "plt.show()"
   ]
  },
  {
   "cell_type": "code",
   "execution_count": 39,
   "metadata": {},
   "outputs": [
    {
     "data": {
      "text/plain": [
       "count    3015.000000\n",
       "mean       49.126567\n",
       "std        13.951450\n",
       "min         0.000000\n",
       "25%        39.400000\n",
       "50%        49.300000\n",
       "75%        58.700000\n",
       "max        93.900000\n",
       "Name: NT_GER, dtype: float64"
      ]
     },
     "execution_count": 39,
     "metadata": {},
     "output_type": "execute_result"
    }
   ],
   "source": [
    "#Estudantes que receberam bolsa\n",
    "combolsa = ccomp.loc[ccomp.QE_I13 != 1]\n",
    "combolsa.NT_GER.describe()"
   ]
  },
  {
   "cell_type": "code",
   "execution_count": 40,
   "metadata": {},
   "outputs": [
    {
     "data": {
      "text/plain": [
       "count    5393.000000\n",
       "mean       40.080994\n",
       "std        12.302738\n",
       "min         0.000000\n",
       "25%        31.700000\n",
       "50%        39.300000\n",
       "75%        47.900000\n",
       "max        95.100000\n",
       "Name: NT_GER, dtype: float64"
      ]
     },
     "execution_count": 40,
     "metadata": {},
     "output_type": "execute_result"
    }
   ],
   "source": [
    "#Estudantes que não receberam bolsa\n",
    "sembolsa = ccomp.loc[ccomp.QE_I13 == 1]\n",
    "sembolsa.NT_GER.describe()"
   ]
  },
  {
   "cell_type": "markdown",
   "metadata": {},
   "source": [
    "### Verificação de resultados"
   ]
  },
  {
   "cell_type": "code",
   "execution_count": 41,
   "metadata": {},
   "outputs": [
    {
     "data": {
      "text/plain": [
       "<matplotlib.axes._subplots.AxesSubplot at 0x1b0ed93cb38>"
      ]
     },
     "execution_count": 41,
     "metadata": {},
     "output_type": "execute_result"
    },
    {
     "data": {
      "image/png": "[encoded data removed]",
      "text/plain": [
       "<Figure size 432x288 with 1 Axes>"
      ]
     },
     "metadata": {},
     "output_type": "display_data"
    }
   ],
   "source": [
    "qe06 = pandas.DataFrame(ccomp, columns=['NT_GER', 'QE_I06'])\n",
    "qe06.boxplot(by='QE_I06')"
   ]
  },
  {
   "cell_type": "code",
   "execution_count": 42,
   "metadata": {},
   "outputs": [
    {
     "data": {
      "text/plain": [
       "<matplotlib.axes._subplots.AxesSubplot at 0x1b0861aef98>"
      ]
     },
     "execution_count": 42,
     "metadata": {},
     "output_type": "execute_result"
    },
    {
     "data": {
      "image/png": "[encoded data removed]",
      "text/plain": [
       "<Figure size 432x288 with 1 Axes>"
      ]
     },
     "metadata": {},
     "output_type": "display_data"
    }
   ],
   "source": [
    "qe13 = pandas.DataFrame(ccomp, columns=['NT_GER', 'QE_I13'])\n",
    "qe13.boxplot(by='QE_I13')\n"
   ]
  },
  {
   "cell_type": "code",
   "execution_count": 43,
   "metadata": {},
   "outputs": [
    {
     "data": {
      "text/html": [
       "<div>\n",
       "<style scoped>\n",
       "    .dataframe tbody tr th:only-of-type {\n",
       "        vertical-align: middle;\n",
       "    }\n",
       "\n",
       "    .dataframe tbody tr th {\n",
       "        vertical-align: top;\n",
       "    }\n",
       "\n",
       "    .dataframe thead th {\n",
       "        text-align: right;\n",
       "    }\n",
       "</style>\n",
       "<table border=\"1\" class=\"dataframe\">\n",
       "  <thead>\n",
       "    <tr style=\"text-align: right;\">\n",
       "      <th></th>\n",
       "      <th>count</th>\n",
       "      <th>mean</th>\n",
       "      <th>std</th>\n",
       "      <th>min</th>\n",
       "      <th>25%</th>\n",
       "      <th>50%</th>\n",
       "      <th>75%</th>\n",
       "      <th>max</th>\n",
       "    </tr>\n",
       "    <tr>\n",
       "      <th>QE_I06</th>\n",
       "      <th></th>\n",
       "      <th></th>\n",
       "      <th></th>\n",
       "      <th></th>\n",
       "      <th></th>\n",
       "      <th></th>\n",
       "      <th></th>\n",
       "      <th></th>\n",
       "    </tr>\n",
       "  </thead>\n",
       "  <tbody>\n",
       "    <tr>\n",
       "      <th>1</th>\n",
       "      <td>729.0</td>\n",
       "      <td>42.884774</td>\n",
       "      <td>13.567003</td>\n",
       "      <td>1.2</td>\n",
       "      <td>32.9</td>\n",
       "      <td>41.7</td>\n",
       "      <td>52.300</td>\n",
       "      <td>85.7</td>\n",
       "    </tr>\n",
       "    <tr>\n",
       "      <th>2</th>\n",
       "      <td>5762.0</td>\n",
       "      <td>43.470462</td>\n",
       "      <td>13.539830</td>\n",
       "      <td>0.0</td>\n",
       "      <td>34.1</td>\n",
       "      <td>42.5</td>\n",
       "      <td>52.500</td>\n",
       "      <td>95.1</td>\n",
       "    </tr>\n",
       "    <tr>\n",
       "      <th>3</th>\n",
       "      <td>1020.0</td>\n",
       "      <td>39.292647</td>\n",
       "      <td>12.986906</td>\n",
       "      <td>0.0</td>\n",
       "      <td>30.4</td>\n",
       "      <td>38.0</td>\n",
       "      <td>47.025</td>\n",
       "      <td>84.6</td>\n",
       "    </tr>\n",
       "    <tr>\n",
       "      <th>4</th>\n",
       "      <td>787.0</td>\n",
       "      <td>47.427700</td>\n",
       "      <td>13.638345</td>\n",
       "      <td>0.0</td>\n",
       "      <td>37.9</td>\n",
       "      <td>47.0</td>\n",
       "      <td>57.300</td>\n",
       "      <td>83.1</td>\n",
       "    </tr>\n",
       "    <tr>\n",
       "      <th>5</th>\n",
       "      <td>29.0</td>\n",
       "      <td>49.872414</td>\n",
       "      <td>15.941767</td>\n",
       "      <td>20.7</td>\n",
       "      <td>40.7</td>\n",
       "      <td>51.4</td>\n",
       "      <td>60.600</td>\n",
       "      <td>85.9</td>\n",
       "    </tr>\n",
       "    <tr>\n",
       "      <th>6</th>\n",
       "      <td>81.0</td>\n",
       "      <td>45.471605</td>\n",
       "      <td>13.214313</td>\n",
       "      <td>12.9</td>\n",
       "      <td>35.4</td>\n",
       "      <td>45.1</td>\n",
       "      <td>54.700</td>\n",
       "      <td>78.7</td>\n",
       "    </tr>\n",
       "  </tbody>\n",
       "</table>\n",
       "</div>"
      ],
      "text/plain": [
       "         count       mean        std   min   25%   50%     75%   max\n",
       "QE_I06                                                              \n",
       "1        729.0  42.884774  13.567003   1.2  32.9  41.7  52.300  85.7\n",
       "2       5762.0  43.470462  13.539830   0.0  34.1  42.5  52.500  95.1\n",
       "3       1020.0  39.292647  12.986906   0.0  30.4  38.0  47.025  84.6\n",
       "4        787.0  47.427700  13.638345   0.0  37.9  47.0  57.300  83.1\n",
       "5         29.0  49.872414  15.941767  20.7  40.7  51.4  60.600  85.9\n",
       "6         81.0  45.471605  13.214313  12.9  35.4  45.1  54.700  78.7"
      ]
     },
     "execution_count": 43,
     "metadata": {},
     "output_type": "execute_result"
    }
   ],
   "source": [
    "#A análise de variância (ANOVA) é um teste usado para comparar as médias de dois grupos. \n",
    "#suposições: normalidade, independência e variância homegênea\n",
    "\n",
    "#nota geral agrupada pela questão 06\n",
    "ccomp['NT_GER'].groupby(ccomp['QE_I06']).describe()"
   ]
  },
  {
   "cell_type": "code",
   "execution_count": 44,
   "metadata": {},
   "outputs": [
    {
     "data": {
      "text/html": [
       "<div>\n",
       "<style scoped>\n",
       "    .dataframe tbody tr th:only-of-type {\n",
       "        vertical-align: middle;\n",
       "    }\n",
       "\n",
       "    .dataframe tbody tr th {\n",
       "        vertical-align: top;\n",
       "    }\n",
       "\n",
       "    .dataframe thead th {\n",
       "        text-align: right;\n",
       "    }\n",
       "</style>\n",
       "<table border=\"1\" class=\"dataframe\">\n",
       "  <thead>\n",
       "    <tr style=\"text-align: right;\">\n",
       "      <th></th>\n",
       "      <th>count</th>\n",
       "      <th>mean</th>\n",
       "      <th>std</th>\n",
       "      <th>min</th>\n",
       "      <th>25%</th>\n",
       "      <th>50%</th>\n",
       "      <th>75%</th>\n",
       "      <th>max</th>\n",
       "    </tr>\n",
       "    <tr>\n",
       "      <th>QE_I13</th>\n",
       "      <th></th>\n",
       "      <th></th>\n",
       "      <th></th>\n",
       "      <th></th>\n",
       "      <th></th>\n",
       "      <th></th>\n",
       "      <th></th>\n",
       "      <th></th>\n",
       "    </tr>\n",
       "  </thead>\n",
       "  <tbody>\n",
       "    <tr>\n",
       "      <th>1</th>\n",
       "      <td>5393.0</td>\n",
       "      <td>40.080994</td>\n",
       "      <td>12.302738</td>\n",
       "      <td>0.0</td>\n",
       "      <td>31.700</td>\n",
       "      <td>39.3</td>\n",
       "      <td>47.900</td>\n",
       "      <td>95.1</td>\n",
       "    </tr>\n",
       "    <tr>\n",
       "      <th>2</th>\n",
       "      <td>1400.0</td>\n",
       "      <td>51.183071</td>\n",
       "      <td>14.203853</td>\n",
       "      <td>0.0</td>\n",
       "      <td>41.575</td>\n",
       "      <td>51.6</td>\n",
       "      <td>61.125</td>\n",
       "      <td>88.6</td>\n",
       "    </tr>\n",
       "    <tr>\n",
       "      <th>3</th>\n",
       "      <td>379.0</td>\n",
       "      <td>47.116095</td>\n",
       "      <td>12.295492</td>\n",
       "      <td>0.0</td>\n",
       "      <td>38.650</td>\n",
       "      <td>46.8</td>\n",
       "      <td>56.100</td>\n",
       "      <td>86.5</td>\n",
       "    </tr>\n",
       "    <tr>\n",
       "      <th>4</th>\n",
       "      <td>455.0</td>\n",
       "      <td>49.510549</td>\n",
       "      <td>13.391774</td>\n",
       "      <td>12.5</td>\n",
       "      <td>40.300</td>\n",
       "      <td>50.2</td>\n",
       "      <td>58.550</td>\n",
       "      <td>93.3</td>\n",
       "    </tr>\n",
       "    <tr>\n",
       "      <th>5</th>\n",
       "      <td>163.0</td>\n",
       "      <td>54.262577</td>\n",
       "      <td>13.278011</td>\n",
       "      <td>23.5</td>\n",
       "      <td>43.550</td>\n",
       "      <td>54.3</td>\n",
       "      <td>62.900</td>\n",
       "      <td>93.9</td>\n",
       "    </tr>\n",
       "    <tr>\n",
       "      <th>6</th>\n",
       "      <td>618.0</td>\n",
       "      <td>44.063430</td>\n",
       "      <td>13.328950</td>\n",
       "      <td>10.7</td>\n",
       "      <td>34.825</td>\n",
       "      <td>44.0</td>\n",
       "      <td>53.475</td>\n",
       "      <td>85.7</td>\n",
       "    </tr>\n",
       "  </tbody>\n",
       "</table>\n",
       "</div>"
      ],
      "text/plain": [
       "         count       mean        std   min     25%   50%     75%   max\n",
       "QE_I13                                                                \n",
       "1       5393.0  40.080994  12.302738   0.0  31.700  39.3  47.900  95.1\n",
       "2       1400.0  51.183071  14.203853   0.0  41.575  51.6  61.125  88.6\n",
       "3        379.0  47.116095  12.295492   0.0  38.650  46.8  56.100  86.5\n",
       "4        455.0  49.510549  13.391774  12.5  40.300  50.2  58.550  93.3\n",
       "5        163.0  54.262577  13.278011  23.5  43.550  54.3  62.900  93.9\n",
       "6        618.0  44.063430  13.328950  10.7  34.825  44.0  53.475  85.7"
      ]
     },
     "execution_count": 44,
     "metadata": {},
     "output_type": "execute_result"
    }
   ],
   "source": [
    "#nota geral agrupada pela questão 13\n",
    "ccomp['NT_GER'].groupby(ccomp['QE_I13']).describe()"
   ]
  },
  {
   "cell_type": "code",
   "execution_count": 45,
   "metadata": {},
   "outputs": [
    {
     "name": "stdout",
     "output_type": "stream",
     "text": [
      "(0.9918650984764099, 0.0004941278602927923)\n",
      "(0.9928305149078369, 0.9372762441635132)\n"
     ]
    },
    {
     "data": {
      "text/plain": [
       "<matplotlib.axes._subplots.AxesSubplot at 0x1b0fcba7c50>"
      ]
     },
     "execution_count": 45,
     "metadata": {},
     "output_type": "execute_result"
    },
    {
     "data": {
      "image/png": "[encoded data removed]",
      "text/plain": [
       "<Figure size 432x288 with 1 Axes>"
      ]
     },
     "metadata": {},
     "output_type": "display_data"
    }
   ],
   "source": [
    "#teste das suposições\n",
    "import scipy.stats as stats\n",
    "\n",
    "print(stats.shapiro(qe06.NT_GER.loc[qe06.QE_I06 ==1]))\n",
    "\n",
    "print(stats.shapiro(qe06.NT_GER.loc[qe06.QE_I06 ==6]))\n",
    "\n",
    "#a saída do teste é o valor W e o p-value\n",
    "#Considera-se que a suposição não é violada quando o p-value é maior que alpha, normalmente 0.05\n",
    "\n",
    "#pelo histograma, também é possível observar a distribuição dos dados. \n",
    "qe06.NT_GER.loc[qe06.QE_I06 ==6].hist()"
   ]
  },
  {
   "cell_type": "code",
   "execution_count": 46,
   "metadata": {},
   "outputs": [
    {
     "name": "stdout",
     "output_type": "stream",
     "text": [
      "(0.9952930808067322, 3.155765579410108e-12)\n",
      "(0.9957941174507141, 0.09572052955627441)\n"
     ]
    },
    {
     "name": "stderr",
     "output_type": "stream",
     "text": [
      "C:\\Users\\IFNMG\\Anaconda3\\lib\\site-packages\\scipy\\stats\\morestats.py:1309: UserWarning: p-value may not be accurate for N > 5000.\n",
      "  warnings.warn(\"p-value may not be accurate for N > 5000.\")\n"
     ]
    },
    {
     "data": {
      "text/plain": [
       "<matplotlib.axes._subplots.AxesSubplot at 0x1b0d5e6f160>"
      ]
     },
     "execution_count": 46,
     "metadata": {},
     "output_type": "execute_result"
    },
    {
     "data": {
      "image/png": "[encoded data removed]",
      "text/plain": [
       "<Figure size 432x288 with 1 Axes>"
      ]
     },
     "metadata": {},
     "output_type": "display_data"
    }
   ],
   "source": [
    "print(stats.shapiro(qe13.NT_GER.loc[qe13.QE_I13 == 1]))\n",
    "\n",
    "print(stats.shapiro(qe13.NT_GER.loc[qe13.QE_I13 == 6]))\n",
    "\n",
    "#a saída do teste é o valor W e o p-value\n",
    "#Considera-se que a suposição não é violada quando o p-value é maior que alpha, normalmente 0.05\n",
    "\n",
    "#pelo histograma, também é possível observar a distribuição dos dados. \n",
    "qe13.NT_GER.loc[qe13.QE_I13 == 6].hist()"
   ]
  },
  {
   "cell_type": "code",
   "execution_count": 47,
   "metadata": {},
   "outputs": [
    {
     "name": "stdout",
     "output_type": "stream",
     "text": [
      "Mann-Whitney: Estatisticas=26203.000, p=0.048\n",
      "Distribução diferente\n",
      "Kruskal-Wallis: Estatisticas=2.765, p=0.096\n",
      "Mesma distribuição\n",
      "Anova: Estatisticas=2.664, p=0.103\n",
      "Mesma distribuição\n"
     ]
    }
   ],
   "source": [
    "# teste não paramétrico são métodos que não assumem uma distribuição específica para os dados.\n",
    "stat, p = stats.mannwhitneyu(qe06.NT_GER.loc[qe06.QE_I06 ==1], qe06.NT_GER.loc[qe06.QE_I06 ==6])\n",
    "\n",
    "print('Mann-Whitney: Estatisticas=%.3f, p=%.3f' % (stat, p))\n",
    "\n",
    "alpha = 0.05\n",
    "if p > alpha:\n",
    "\tprint('Mesma distribuição')\n",
    "else:\n",
    "\tprint('Distribução diferente')\n",
    "    \n",
    "    \n",
    "stat, p = stats.kruskal(qe06.NT_GER.loc[qe06.QE_I06 ==1], qe06.NT_GER.loc[qe06.QE_I06 ==6])\n",
    "print('Kruskal-Wallis: Estatisticas=%.3f, p=%.3f' % (stat, p))\n",
    "\n",
    "if p > alpha:\n",
    "\tprint('Mesma distribuição')\n",
    "else:\n",
    "\tprint('Distribução diferente')\n",
    "    \n",
    "#anova\n",
    "stat, p = stats.f_oneway(qe06.NT_GER.loc[qe06.QE_I06 ==1], qe06.NT_GER.loc[qe06.QE_I06 ==6])\n",
    "print('Anova: Estatisticas=%.3f, p=%.3f' % (stat, p))\n",
    "if p > alpha:\n",
    "\tprint('Mesma distribuição')\n",
    "else:\n",
    "\tprint('Distribução diferente')"
   ]
  },
  {
   "cell_type": "code",
   "execution_count": 48,
   "metadata": {},
   "outputs": [
    {
     "name": "stdout",
     "output_type": "stream",
     "text": [
      "Mann-Whitney: Estatisticas=1376206.000, p=0.000\n",
      "Distribução diferente\n",
      "Kruskal-Wallis: Estatisticas=50.447, p=0.000\n",
      "Distribução diferente\n",
      "Anova: Estatisticas=57.080, p=0.000\n",
      "Distribução diferente\n"
     ]
    }
   ],
   "source": [
    "# teste não paramétrico são métodos que não assumem uma distribuição específica para os dados.\n",
    "stat, p = stats.mannwhitneyu(qe13.NT_GER.loc[qe13.QE_I13 ==1], qe13.NT_GER.loc[qe13.QE_I13 ==6])\n",
    "\n",
    "print('Mann-Whitney: Estatisticas=%.3f, p=%.3f' % (stat, p))\n",
    "\n",
    "alpha = 0.05\n",
    "if p > alpha:\n",
    "\tprint('Mesma distribuição')\n",
    "else:\n",
    "\tprint('Distribução diferente')\n",
    "    \n",
    "    \n",
    "stat, p = stats.kruskal(qe13.NT_GER.loc[qe13.QE_I13 ==1], qe13.NT_GER.loc[qe13.QE_I13 ==6])\n",
    "print('Kruskal-Wallis: Estatisticas=%.3f, p=%.3f' % (stat, p))\n",
    "\n",
    "if p > alpha:\n",
    "\tprint('Mesma distribuição')\n",
    "else:\n",
    "\tprint('Distribução diferente')\n",
    "    \n",
    "#anova\n",
    "stat, p = stats.f_oneway(qe13.NT_GER.loc[qe13.QE_I13 ==1], qe13.NT_GER.loc[qe13.QE_I13 ==6])\n",
    "print('Anova: Estatisticas=%.3f, p=%.3f' % (stat, p))\n",
    "if p > alpha:\n",
    "\tprint('Mesma distribuição')\n",
    "else:\n",
    "\tprint('Distribução diferente')"
   ]
  },
  {
   "cell_type": "code",
   "execution_count": null,
   "metadata": {},
   "outputs": [],
   "source": []
  }
 ],
 "metadata": {
  "kernelspec": {
   "display_name": "Python 3",
   "language": "python",
   "name": "python3"
  },
  "language_info": {
   "codemirror_mode": {
    "name": "ipython",
    "version": 3
   },
   "file_extension": ".py",
   "mimetype": "text/x-python",
   "name": "python",
   "nbconvert_exporter": "python",
   "pygments_lexer": "ipython3",
   "version": "3.6.5"
  }
 },
 "nbformat": 4,
 "nbformat_minor": 2
}
